{
 "cells": [
  {
   "cell_type": "code",
   "execution_count": 3,
   "id": "3adceb5d-a8cd-4597-9367-d896d3d98ffe",
   "metadata": {},
   "outputs": [],
   "source": [
    "import random\n",
    "import numpy as np\n",
    "from qiskit import QuantumCircuit, transpile\n",
    "from qiskit_aer import AerSimulator, Aer\n",
    "\n",
    "n_qubits=10"
   ]
  },
  {
   "cell_type": "markdown",
   "id": "dd5b4abc-239c-4f30-acc8-5c24330db23c",
   "metadata": {},
   "source": [
    "1. Initialize the Alice's bits and bases"
   ]
  },
  {
   "cell_type": "code",
   "execution_count": 5,
   "id": "3d58b8e6-f5fb-4586-828a-eec9c2891084",
   "metadata": {},
   "outputs": [],
   "source": [
    "alice_bits = [random.randint(0,1) for _ in range (n_qubits)]\n",
    "alice_bases = [random.choice(['Z','X']) for _ in range (n_qubits)]"
   ]
  },
  {
   "cell_type": "markdown",
   "id": "d8edaf3c-f089-4c3c-8234-41f28cd69797",
   "metadata": {},
   "source": [
    "2. Bob chooses his measurement basis"
   ]
  },
  {
   "cell_type": "code",
   "execution_count": 9,
   "id": "7270bc32-fd93-45d2-b43f-ec0af064a629",
   "metadata": {},
   "outputs": [],
   "source": [
    "bob_bases = [random.choice(['Z','X']) for _ in range (n_qubits)]\n",
    "bob_results = []"
   ]
  },
  {
   "cell_type": "markdown",
   "id": "bb25dbe5-c1e7-4a77-abd9-baaef95cad42",
   "metadata": {},
   "source": [
    "3. Now, we do the simulation of the Alice and Bob's actions"
   ]
  },
  {
   "cell_type": "code",
   "execution_count": 10,
   "id": "f02b49f0-616d-4843-a679-53c5824b4632",
   "metadata": {},
   "outputs": [],
   "source": [
    "backend = AerSimulator()\n",
    "\n",
    "for i in range (n_qubits):\n",
    "    qc = QuantumCircuit(1,1)\n",
    "\n",
    "    if alice_bases[i] == 'Z':\n",
    "        if alice_bits[i] == 1:\n",
    "            qc.x(0)\n",
    "    else:\n",
    "        if alice_bits[i] == 0:\n",
    "            qc.h(0)\n",
    "        else:\n",
    "            qc.x(0)\n",
    "            qc.h(0)\n",
    "\n",
    "    qc.barrier()\n",
    "\n",
    "    if bob_bases[i] == 'X':\n",
    "        qc.h(0)\n",
    "    qc.measure(0,0)\n",
    "\n",
    "    new_cirq = transpile(qc, backend)\n",
    "    job = backend.run(new_cirq)\n",
    "\n",
    "    counts = job.result().get_counts()\n",
    "    measured_bit = int(list(counts.keys())[0])\n",
    "    bob_results.append(measured_bit)"
   ]
  },
  {
   "cell_type": "markdown",
   "id": "7bd90d06-5d9f-4c15-adbe-b51ec6abc674",
   "metadata": {},
   "source": [
    "4. Compare the alice and bob's stuff and obtain the key"
   ]
  },
  {
   "cell_type": "code",
   "execution_count": 11,
   "id": "b88fe1f6-3a57-4d78-b2b3-38c62b6c3a76",
   "metadata": {},
   "outputs": [
    {
     "name": "stdout",
     "output_type": "stream",
     "text": [
      "Qubit 0: Basis match (Z). Alice's bit: 0, Bob's measurement: 0\n",
      "Qubit 1: Basis match (X). Alice's bit: 1, Bob's measurement: 1\n",
      "Qubit 2: Basis match (Z). Alice's bit: 1, Bob's measurement: 1\n",
      "Qubit 3: Basis match (Z). Alice's bit: 1, Bob's measurement: 1\n",
      "Qubit 4: Basis mismatch (X). Alice's bit: 1, Bob's measurement: 0\n",
      "Qubit 5: Basis match (X). Alice's bit: 1, Bob's measurement: 1\n",
      "Qubit 6: Basis mismatch (Z). Alice's bit: 0, Bob's measurement: 0\n",
      "Qubit 7: Basis match (X). Alice's bit: 1, Bob's measurement: 1\n",
      "Qubit 8: Basis mismatch (Z). Alice's bit: 0, Bob's measurement: 0\n",
      "Qubit 9: Basis mismatch (Z). Alice's bit: 1, Bob's measurement: 1\n",
      "\n",
      "Final sifted key: [0, 1, 1, 1, 1, 1]\n"
     ]
    }
   ],
   "source": [
    "sifted_key = []\n",
    "\n",
    "for i in range(n_qubits):\n",
    "    if alice_bases[i] == bob_bases[i]:\n",
    "        sifted_key.append(alice_bits[i])\n",
    "        print(f\"Qubit {i}: Basis match ({alice_bases[i]}). Alice's bit: {alice_bits[i]}, Bob's measurement: {bob_results[i]}\")\n",
    "    else:\n",
    "        print(f\"Qubit {i}: Basis mismatch ({alice_bases[i]}). Alice's bit: {alice_bits[i]}, Bob's measurement: {bob_results[i]}\")\n",
    "  \n",
    "print(\"\\nFinal sifted key:\", sifted_key)"
   ]
  },
  {
   "cell_type": "code",
   "execution_count": null,
   "id": "081c9e38-5e42-461d-9723-f2d64b642391",
   "metadata": {},
   "outputs": [],
   "source": []
  }
 ],
 "metadata": {
  "kernelspec": {
   "display_name": "Python (qiskit resolved)",
   "language": "python",
   "name": ".venv"
  },
  "language_info": {
   "codemirror_mode": {
    "name": "ipython",
    "version": 3
   },
   "file_extension": ".py",
   "mimetype": "text/x-python",
   "name": "python",
   "nbconvert_exporter": "python",
   "pygments_lexer": "ipython3",
   "version": "3.10.12"
  }
 },
 "nbformat": 4,
 "nbformat_minor": 5
}
